{
 "cells": [
  {
   "cell_type": "code",
   "execution_count": 1,
   "metadata": {},
   "source": [
    "import googlemaps\n",
    "import pandas as pd\n",
    "import numpy as np\n",
    "from urllib.parse import quote"
   ],
   "outputs": []
  },
  {
   "cell_type": "code",
   "execution_count": 2,
   "metadata": {},
   "source": [
    "def get_next_destination(origin:str, distance_matrix:pd.DataFrame):\n",
    "    \"\"\"\n",
    "    This function returns the best consequent given an starting point. It selects the destination with the minimum distance/time\n",
    "    and then remove that location so the value is not duplicated.\n",
    "\n",
    "    :param origin: is the starting point from where we are going to look for the next destination.\n",
    "\n",
    "    :param distance_matrix:  is a squared matrix with the distance/time between different locations. Column names have the Origin,\n",
    "    while rows have the destinations. This parameter is then returned without the destination selected.\n",
    "    \"\"\"\n",
    "\n",
    "    id_min = distance_matrix[distance_matrix[origin]>0][origin].idxmin()\n",
    "    destination = distance_matrix.loc[id_min, 'destination']\n",
    "    distance_matrix = distance_matrix[distance_matrix['destination'] != destination]\n",
    "    \n",
    "    return destination, distance_matrix"
   ],
   "outputs": []
  },
  {
   "cell_type": "code",
   "execution_count": 3,
   "metadata": {},
   "source": [
    "def get_best_route(start_point:str, distance_matrix:pd.DataFrame):\n",
    "    \"\"\"\n",
    "    This function returns the best route based on a starting point, which is on the distance matrix provided.\n",
    "    In order to return a route it uses a heuristic method.\n",
    "\n",
    "    :param start_point: is the starting point of the travel, where the travel begin\n",
    "\n",
    "    :param distance_matrix: is a squared matrix with the distance/time between different locations. Column names have the Origin,\n",
    "    while rows have the destinations.\n",
    "    \"\"\"\n",
    "\n",
    "    best_consequent = [start_point]\n",
    "    locations = distance_matrix.iloc[:,1:].columns.to_list()\n",
    "    locations = [x for x in locations if x != start_point]\n",
    "\n",
    "    for i in range(1, len(locations)+1):\n",
    "        origin = best_consequent[i - 1]\n",
    "        destination, distance_matrix = get_next_destination(origin, distance_matrix)\n",
    "        best_consequent.append(destination)\n",
    "    \n",
    "    return best_consequent"
   ],
   "outputs": []
  },
  {
   "cell_type": "code",
   "execution_count": 4,
   "metadata": {},
   "source": [
    "def get_distance_matrix(locations:list, gmaps):\n",
    "    \"\"\"\n",
    "    \n",
    "    \"\"\"\n",
    "    result = gmaps.distance_matrix(mode='driving', origins=locations, destinations=locations, region='AR', units='metric')\n",
    "\n",
    "    raw_data = []\n",
    "    for i, origin in enumerate(locations):\n",
    "        for j, destination in enumerate(locations):\n",
    "            data = {\n",
    "                'origin': origin,\n",
    "                'destination': destination,\n",
    "                'distance': result['rows'][i]['elements'][j]['distance']['value'],\n",
    "                'duration': result['rows'][i]['elements'][j]['duration']['value'],\n",
    "                'status':result['rows'][i]['elements'][j]['status']\n",
    "            }\n",
    "\n",
    "            # Agregar el diccionario a la lista\n",
    "            raw_data.append(data)\n",
    "\n",
    "    df = pd.json_normalize(raw_data)\n",
    "\n",
    "    # ACA DEBERÍAMOS CHEQUEAR QUE TODOS LOS VALORES DEL DF TENGAN EL STATUS = 'OK'\n",
    "\n",
    "    return df.pivot_table(index='destination', columns='origin', values='duration').reset_index()"
   ],
   "outputs": []
  },
  {
   "cell_type": "code",
   "execution_count": 5,
   "metadata": {},
   "source": [
    "def get_url_route(best_route:list, gmaps):\n",
    "    \"\"\"\n",
    "    This function returns the URL to the route generated.\n",
    "\n",
    "    :param best_route: is a list with all the locations in order to generate the route.\n",
    "\n",
    "    :param gmaps: is the google maps client. A ESTO DEBERÍAMOS HACERLO TIPO VARIABLE GLOBAL DESPUES\n",
    "    \"\"\"\n",
    "    start = best_route[0]\n",
    "    end = best_route[len(best_route)-1]\n",
    "    way_points = best_route[1:len(best_route)-1]\n",
    "\n",
    "    route = gmaps.directions(origin=start, destination=end, waypoints=way_points, mode=\"driving\", alternatives=False, units=\"metric\", region=\"AR\", optimize_waypoints=False)\n",
    "\n",
    "    overview_polyline = route[0]['overview_polyline']['points']\n",
    "\n",
    "    # fix locations to create the route URL\n",
    "    url_start       = quote(start, safe='')\n",
    "    url_end         = quote(end, safe='')\n",
    "    url_waypoints   = \"|\".join(quote(wp, safe='') for wp in way_points)\n",
    "\n",
    "    return f\"https://www.google.com/maps/dir/?api=1&origin={url_start}&destination={url_end}&waypoints={url_waypoints}&travelmode=driving&dir_action=navigate&waypoints={overview_polyline}\""
   ],
   "outputs": []
  },
  {
   "cell_type": "code",
   "execution_count": 11,
   "metadata": {},
   "source": [
    "gmaps = googlemaps.Client(key='')\n",
    "\n",
    "# el start point debería estar indicado por la empresa, sería el punto de acceso a la ciudad final. \n",
    "# Sino también podemos tomar buscar la dirección del acceso a la ciudad final y tomarlo como un punto extra\n",
    "start_point = 'Pablo Stampa 2510, Chajari'\n",
    "# esta lista debería venir de una query a la base de datos trayendo todos los destinos para un viaje\n",
    "\n",
    "locations = ['9 de Julio 3151, Chajari', 'Saenz Peña 3695, Chajari', 'Chaco 2340, Chajari', 'Saenz Peña 2665, Chajari']\n",
    "\n",
    "# esto puede ir como no, dependiendo de la solución que tomemos.\n",
    "locations.append(start_point)\n",
    "\n",
    "distance_matrix = get_distance_matrix(locations, gmaps)\n",
    "\n",
    "# Remove the start point as a posible destination because it is, indeed, the start point\n",
    "distance_matrix = distance_matrix[distance_matrix['destination'] != start_point]\n",
    "\n",
    "best_route = get_best_route(start_point, distance_matrix)\n",
    "\n",
    "url = get_url_route(best_route, gmaps)"
   ],
   "outputs": []
  },
  {
   "cell_type": "code",
   "execution_count": 16,
   "metadata": {},
   "source": [
    "url"
   ],
   "outputs": []
  },
  {
   "cell_type": "code",
   "execution_count": null,
   "metadata": {},
   "source": [],
   "outputs": []
  }
 ],
 "metadata": {
  "kernelspec": {
   "display_name": "base",
   "language": "python",
   "name": "python3"
  },
  "language_info": {
   "codemirror_mode": {
    "name": "ipython",
    "version": 3
   },
   "file_extension": ".py",
   "mimetype": "text/x-python",
   "name": "python",
   "nbconvert_exporter": "python",
   "pygments_lexer": "ipython3",
   "version": "3.11.5"
  }
 },
 "nbformat": 4,
 "nbformat_minor": 2
}
